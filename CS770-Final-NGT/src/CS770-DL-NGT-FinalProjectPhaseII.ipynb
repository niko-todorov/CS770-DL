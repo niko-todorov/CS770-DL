{
 "cells": [
  {
   "cell_type": "markdown",
   "metadata": {
    "id": "M4xOsFiu-1-c"
   },
   "source": [
    "# Music generation"
   ]
  },
  {
   "cell_type": "code",
   "execution_count": 1,
   "outputs": [],
   "source": [
    "# !pip install fluidsynth  # corrupt"
   ],
   "metadata": {
    "collapsed": false
   }
  },
  {
   "cell_type": "code",
   "execution_count": 1,
   "outputs": [],
   "source": [
    "import numpy as np\n",
    "import pandas as pd\n",
    "import glob\n",
    "import pathlib\n",
    "import collections\n",
    "import datetime\n",
    "import pretty_midi\n",
    "import seaborn as sns\n",
    "import tensorflow as tf\n",
    "# import fluidsynth # corrupt\n",
    "# from IPython import display\n",
    "from matplotlib import pyplot as plt\n",
    "from typing import Dict, List, Optional, Sequence, Tuple\n",
    "\n",
    "# Sampling rate for audio playback\n",
    "_SAMPLING_RATE = 16000\n",
    "# drop 2.5% percentile\n",
    "DROP_PCT= 2.5\n",
    "# a value to nudge step & duration by not to be 0\n",
    "NUDGE   = 0.025\n",
    "# MIDI notes range\n",
    "NOTES   = 128\n",
    "# sequence length\n",
    "SEQ_LEN = 128\n",
    "# batch size\n",
    "BATCH_SZ= 64\n",
    "# temperature is randomness\n",
    "TEMP    = 1.0\n",
    "# number of notes to generate\n",
    "NGEN    = 10000\n",
    "# number of epochs to train\n",
    "EPOCHS  = 15\n",
    "# patience, if not improving by stop early\n",
    "PATIENCE= 2\n",
    "# learning rate\n",
    "LR      = 0.01\n",
    "\n",
    "# faves = (6,10,11,13,14,15,16,17,19,20,21,22,23,24,27,28,29,31,32,33,34) # Bach\n",
    "# faves = range(4,36)  # Bach\n",
    "faves = range(1,364) # all\n",
    "# faves = (218,220,229,230,269,270,271,331,333,334,336,342) # rock\n",
    "\n",
    "SEED = 420\n",
    "tf.random.set_seed(SEED)\n",
    "np.random.seed(SEED)"
   ],
   "metadata": {
    "collapsed": false,
    "ExecuteTime": {
     "end_time": "2023-07-19T01:26:35.606778700Z",
     "start_time": "2023-07-19T01:26:35.563577700Z"
    }
   }
  },
  {
   "cell_type": "markdown",
   "source": [
    "## Process the MIDI files"
   ],
   "metadata": {
    "collapsed": false
   }
  },
  {
   "cell_type": "markdown",
   "source": [
    "In the next cell I tried to sort out the bad MIDI files that were throwing various exceptions, from the ok MIDI files that had multiple instruments, leaving out the good MIDI files that have only 1 instrument. Ultimately, used 364 good MIDI files."
   ],
   "metadata": {
    "collapsed": false
   }
  },
  {
   "cell_type": "code",
   "execution_count": 18,
   "outputs": [
    {
     "name": "stdout",
     "output_type": "stream",
     "text": [
      "Number of all MIDI files: 364\n",
      "     0, clean_midi\\Alabama\\Then Again.mid\n",
      "     1, clean_midi\\Allen Toussaint\\Whirlaway.mid\n",
      "     2, clean_midi\\Amos, Tori\\Crucify.mid\n",
      "     3, clean_midi\\Andy Williams\\MacArthur Park.mid\n",
      "     4, clean_midi\\Bach Johann Sebastian\\2-Part Invention No. 1 in C major, BWV 772.1.mid\n",
      "     5, clean_midi\\Bach Johann Sebastian\\2-Part Invention No. 1 in C major, BWV 772.2.mid\n",
      "     6, clean_midi\\Bach Johann Sebastian\\2-Part Invention No. 1 in C major, BWV 772.3.mid\n",
      "     7, clean_midi\\Bach Johann Sebastian\\2-Part Invention No. 1 in C major, BWV 772.mid\n",
      "     8, clean_midi\\Bach Johann Sebastian\\2-Part Invention No. 4 in D minor, BWV 775.mid\n",
      "     9, clean_midi\\Bach Johann Sebastian\\2-Part Invention No. 8 in F major, BWV 779.mid\n",
      "    10, clean_midi\\Bach Johann Sebastian\\Air On The G String.mid\n",
      "    11, clean_midi\\Bach Johann Sebastian\\Aria From the Goldberg Variations, BWV 988.mid\n",
      "    12, clean_midi\\Bach Johann Sebastian\\Bach.mid\n",
      "    13, clean_midi\\Bach Johann Sebastian\\Franzosische Suite Nr. 5, BWV 816, Gigue.1.mid\n",
      "    14, clean_midi\\Bach Johann Sebastian\\Fugue 14 F# Minor.mid\n",
      "    15, clean_midi\\Bach Johann Sebastian\\Fugue 16 G Minor.mid\n",
      "    16, clean_midi\\Bach Johann Sebastian\\Fugue 18 G# Minor.mid\n",
      "    17, clean_midi\\Bach Johann Sebastian\\Fugue 22 B Flat Minor.mid\n",
      "    18, clean_midi\\Bach Johann Sebastian\\Fugue 24 B Minor.mid\n",
      "    19, clean_midi\\Bach Johann Sebastian\\Fugue.mid\n",
      "    20, clean_midi\\Bach Johann Sebastian\\Italian Concerto - Presto.mid\n",
      "    21, clean_midi\\Bach Johann Sebastian\\Italian Concerto BWV 971_ Andante.mid\n",
      "    22, clean_midi\\Bach Johann Sebastian\\Italian Concerto_ Allegro.mid\n",
      "    23, clean_midi\\Bach Johann Sebastian\\Jesus bleibet meine Freude (Herz und Mund und Tat und Leben BWV. 147).mid\n",
      "    24, clean_midi\\Bach Johann Sebastian\\Lukas Passion, BWV 246_ 96. Chorale _Derselbe mein Herr Jesu Christ_.mid\n",
      "    25, clean_midi\\Bach Johann Sebastian\\March in D major (C.P.E. Bach).mid\n",
      "    26, clean_midi\\Bach Johann Sebastian\\Musette BWV Anh.126.mid\n",
      "    27, clean_midi\\Bach Johann Sebastian\\Partita No. 1 in B-flat major, BWV 825_ VI. Gigue.mid\n",
      "    28, clean_midi\\Bach Johann Sebastian\\Prelude in C Major.2.mid\n",
      "    29, clean_midi\\Bach Johann Sebastian\\Prelude in C Major.3.mid\n",
      "    30, clean_midi\\Bach Johann Sebastian\\Prelude in G.mid\n",
      "    31, clean_midi\\Bach Johann Sebastian\\Suite pour orchestre No. 2 en Si mineur, BWV 1067_ II. Rondo.mid\n",
      "    32, clean_midi\\Bach Johann Sebastian\\The Well-Tempered Clavier - Prelude and Fugue nr 1, C Major, BWV 846.mid\n",
      "    33, clean_midi\\Bach Johann Sebastian\\Toccata and Fugue in D minor, BWV 565.2.mid\n",
      "    34, clean_midi\\Bach Johann Sebastian\\Toccata.mid\n",
      "    35, clean_midi\\Bach Johann Sebastian\\TwoPart Invention in A minor.mid\n",
      "    36, clean_midi\\Backstreet Boys\\I Need You Tonight.mid\n",
      "    37, clean_midi\\Bela Bartok\\10 Easy Pieces_ X. Bear Dance.mid\n",
      "    38, clean_midi\\Bela Bartok\\44 Duos, No. 14_ Cushion Dance.mid\n",
      "    39, clean_midi\\Bela Bartok\\Kezdok zongoramuzikaja (First Term at the Piano), BB 66_ No. 16_ Paraszttanc (Peasant's Dance)_ Allegro moderato.mid\n",
      "    40, clean_midi\\Bela Bartok\\Piano Piece for Children No. 18.mid\n",
      "    41, clean_midi\\Bela Bartok\\Piano Piece for Children No. 20.mid\n",
      "    42, clean_midi\\Bela Bartok\\Roumanian Folk Dance, Sz. 56 No. 6_ Fast Dance.mid\n",
      "    43, clean_midi\\Bilk\\Fond Memories.mid\n",
      "    44, clean_midi\\Bilk\\What Are You Doing the Rest of Your Life.mid\n",
      "    45, clean_midi\\Billy Joel\\Leningrad.2.mid\n",
      "    46, clean_midi\\Billy Joel\\Leningrad.mid\n",
      "    47, clean_midi\\Billy Joel\\Piano Man.2.mid\n",
      "    48, clean_midi\\Billy Joel\\Piano Man.4.mid\n",
      "    49, clean_midi\\Billy Joel\\Piano Man.6.mid\n",
      "    50, clean_midi\\Bizet Georges\\Carmen Highlights - Habanera.mid\n",
      "    51, clean_midi\\Black Rose\\Honestly Love You.mid\n",
      "    52, clean_midi\\Carole King\\So Far Away.mid\n",
      "    53, clean_midi\\Celine Dion\\Because You Loved Me.5.mid\n",
      "    54, clean_midi\\Celine Dion\\Because You Loved Me.7.mid\n",
      "    55, clean_midi\\Charlie Rich\\Behind Closed Doors.mid\n",
      "    56, clean_midi\\Chick Corea\\500 Miles High.mid\n",
      "    57, clean_midi\\Chick Corea\\Eternal Child.mid\n",
      "    58, clean_midi\\Chick Corea\\La Fiesta.mid\n",
      "    59, clean_midi\\Chick Corea\\Mirror, Mirror.mid\n",
      "    60, clean_midi\\Chick Corea\\No Mystery.mid\n",
      "    61, clean_midi\\Chick Corea\\Sometime Ago.mid\n",
      "    62, clean_midi\\Chick Corea\\Spain.mid\n",
      "    63, clean_midi\\Chick Corea\\Sundance (Chick Corea).1.mid\n",
      "    64, clean_midi\\Chopin Frederic\\Ballade Nr.1 op.23 g-moll.mid\n",
      "    65, clean_midi\\Chopin Frederic\\Barcarolle Opus 60.mid\n",
      "    66, clean_midi\\Chopin Frederic\\Berceuse.mid\n",
      "    67, clean_midi\\Chopin Frederic\\Etude c moll opus 10 Nr.12.1.mid\n",
      "    68, clean_midi\\Chopin Frederic\\Etude c moll opus 10 Nr.12.mid\n",
      "    69, clean_midi\\Chopin Frederic\\Etude in E major, Op. 10 No. 3_ Lento, ma non troppo.1.mid\n",
      "    70, clean_midi\\Chopin Frederic\\Etude in E major, Op. 10 No. 3_ Lento, ma non troppo.2.mid\n",
      "    71, clean_midi\\Chopin Frederic\\Etude in E major, Op. 10 No. 3_ Lento, ma non troppo.mid\n",
      "    72, clean_midi\\Chopin Frederic\\Etude No. 24 in C minor _Ocean_, Op. 25 No. 12.mid\n",
      "    73, clean_midi\\Chopin Frederic\\Fantaisie impromptu.mid\n",
      "    74, clean_midi\\Chopin Frederic\\Heroic Polonaise No. 6 in A flat, Opus 53.mid\n",
      "    75, clean_midi\\Chopin Frederic\\Mazurka D-Dur, Op. 33 Nr. 2.mid\n",
      "    76, clean_midi\\Chopin Frederic\\Mazurka Nr. 51 f -moll op. 68 Nr. 4.mid\n",
      "    77, clean_midi\\Chopin Frederic\\Nocturne In C Minor, Op. 48 Nr. 1.mid\n",
      "    78, clean_midi\\Chopin Frederic\\Nocturne in F minor, Op. 55 No. 1.mid\n",
      "    79, clean_midi\\Chopin Frederic\\Nocturne in F-sharp major, Op. 15 No. 2.mid\n",
      "    80, clean_midi\\Chopin Frederic\\Nocturne In G Minor, Op. 15 Nr. 3.mid\n",
      "    81, clean_midi\\Chopin Frederic\\Nocturne In G Minor, Op. 37 Nr. 1.mid\n",
      "    82, clean_midi\\Chopin Frederic\\Nocturne No. 1 in E minor, Op. 72_ Andante.mid\n",
      "    83, clean_midi\\Chopin Frederic\\Nocturne No. 18 in E major, Op. 62 No. 2.mid\n",
      "    84, clean_midi\\Chopin Frederic\\Piano Sonata No. 3 B-flat Minor Op. 58 1st Movement.mid\n",
      "    85, clean_midi\\Chopin Frederic\\Polonaise A-dur opus 40 Nr.1.mid\n",
      "    86, clean_midi\\Chopin Frederic\\Prelude in E minor, op. 28 nr. 4 _Suffocation_ (arr. Franz Liszt) (organ_ Gerrie Meijers).mid\n",
      "    87, clean_midi\\Chopin Frederic\\Waltz In A Minor, Op. 34 Nr. 2.mid\n",
      "    88, clean_midi\\Chopin Frederic\\Waltz In D Flat Major, Op. 70 Nr. 3.mid\n",
      "    89, clean_midi\\Chopin Frederic\\Waltz in E Minor Opus posthumous.mid\n",
      "    90, clean_midi\\Christoph Willibald Gluck\\Ballet des ombres heureuses (Orfeo ed Euridice).mid\n",
      "    91, clean_midi\\Christoph Willibald Gluck\\Paris and Helena, Gavotte.mid\n",
      "    92, clean_midi\\Claude Debussy\\Arabesque Nr. 1 in E-dur L66 1 (feat. harp_ Paola Larini).mid\n",
      "    93, clean_midi\\Claude Debussy\\Children's Corner - I. Doctor Gradus ad Parnassum.mid\n",
      "    94, clean_midi\\Claude Debussy\\Children's Corner - IV. The Snow is Dancing.mid\n",
      "    95, clean_midi\\Claude Debussy\\Golliwog's Cake Walk.mid\n",
      "    96, clean_midi\\Claude Debussy\\II. Pour un tombeau sans nom.mid\n",
      "    97, clean_midi\\Claude Debussy\\III. Pour que la nuit soit propice.mid\n",
      "    98, clean_midi\\Claude Debussy\\Images, Serie 1  II. Hommage a Rameau (Lent e grave).mid\n",
      "    99, clean_midi\\Claude Debussy\\Jimbo's Lullaby.mid\n",
      "   100, clean_midi\\Claude Debussy\\La Cathedrale engloutie.mid\n",
      "   101, clean_midi\\Claude Debussy\\La fille aux cheveux de lin.mid\n",
      "   102, clean_midi\\Claude Debussy\\La Plus Que Lente - Valse.mid\n",
      "   103, clean_midi\\Claude Debussy\\La Puerta del Vino.mid\n",
      "   104, clean_midi\\Claude Debussy\\No.24 Feux d'artifice (Fireworks).mid\n",
      "   105, clean_midi\\Claude Debussy\\Petit Suite_ Menuet.mid\n",
      "   106, clean_midi\\Claude Debussy\\Prelude a l'apres-midi d'un faune.mid\n",
      "   107, clean_midi\\Claude Debussy\\Reflets dans leau.mid\n",
      "   108, clean_midi\\Claude Debussy\\Reverie.mid\n",
      "   109, clean_midi\\Claude Debussy\\Serenade for the Doll.mid\n",
      "   110, clean_midi\\Claude Debussy\\Six Epigraphes Antiques - Pour La Danseuse Aux Crotales.mid\n",
      "   111, clean_midi\\Claude Debussy\\Six epigraphes antiques_ I. Pour invoquer Pan, dieu du vent d'ete.mid\n",
      "   112, clean_midi\\Claude Debussy\\The little negro (Le petit Negre).mid\n",
      "   113, clean_midi\\Claude Debussy\\The Little Shepherd.mid\n",
      "   114, clean_midi\\Claude Debussy\\V. Pour l'Egyptienne.mid\n",
      "   115, clean_midi\\Claude Debussy\\VI. Pour remercier la pluie au matin.mid\n",
      "   116, clean_midi\\Claude Debussy\\_General Lavine_ - excentric.mid\n",
      "   117, clean_midi\\Clementi\\Sonata for piano, flute & cello in D major, Op. 22 No. 1_ I. Spiritoso.mid\n",
      "   118, clean_midi\\Clementi\\Sonata in F minor, Op. 14 No. 3_ III. Presto.mid\n",
      "   119, clean_midi\\Clementi\\Sonata per piano in Fa maggiore, Op. 26_ I. Allegro.mid\n",
      "   120, clean_midi\\Clementi\\Sonata per piano in Re maggiore _La Chasse_, Op. 16_ I. Allegro.mid\n",
      "   121, clean_midi\\Clementi\\Sonata per piano in Re maggiore, Op. 10 No. 2_ II. Presto.mid\n",
      "   122, clean_midi\\Dan Fogelberg\\Longer.mid\n",
      "   123, clean_midi\\Darin Bobby\\If I Were a Carpenter.mid\n",
      "   124, clean_midi\\Debbie Gibson\\One Hand, One Heart.mid\n",
      "   125, clean_midi\\Delibes Leo\\Coppelia, Ou La Fille Aux Yeux D'Email, Ballet_ Valse.mid\n",
      "   126, clean_midi\\Delibes Leo\\Sylvia_ Pizzicato.mid\n",
      "   127, clean_midi\\Dick Hyman\\Oh, Lady Be Good!.mid\n",
      "   128, clean_midi\\Dick Hyman\\Where or When.mid\n",
      "   129, clean_midi\\Dorsey\\Boogie Woogie.mid\n",
      "   130, clean_midi\\Dvorak\\Serenade op. 22 - 1 Waltz.mid\n",
      "   131, clean_midi\\Dvorak\\Waltz in D Minor Op.54 Nr.7.1.mid\n",
      "   132, clean_midi\\Dvorak\\Waltz in D Minor Op.54 Nr.7.mid\n",
      "   133, clean_midi\\Eagles\\Witchy Woman.4.mid\n",
      "   134, clean_midi\\Edvard Grieg\\'Arietta' op. 12, Nr. 1 aus Lyrische Stucke.mid\n",
      "   135, clean_midi\\Edvard Grieg\\Elfin Dance, Op.12 No.4.mid\n",
      "   136, clean_midi\\Edvard Grieg\\I Love Thee.mid\n",
      "   137, clean_midi\\Edvard Grieg\\Lyrische Stucke I, Op. 12 Nr. 1_ Arietta.mid\n",
      "   138, clean_midi\\Edvard Grieg\\Lyrische Stucke III, Op. 43 Nr. 1_ Schmetterling.mid\n",
      "   139, clean_midi\\Edvard Grieg\\Peer Gynt Suite No. 1, Op. 46_ I. Morning Mood.mid\n",
      "   140, clean_midi\\Elton John\\Sixty Years On.mid\n",
      "   141, clean_midi\\Elvis Costello\\Goon Squad.mid\n",
      "   142, clean_midi\\Emmanuel Chabrier\\Bourree fantasque.mid\n",
      "   143, clean_midi\\Emmanuel Chabrier\\Suite pastorale _ IV. Scherzo-valse.mid\n",
      "   144, clean_midi\\Enigma\\The Voice of Enigma.mid\n",
      "   145, clean_midi\\Enya\\From Where I Am.mid\n",
      "   146, clean_midi\\Enya\\Oriel Window.1.mid\n",
      "   147, clean_midi\\Enya\\Oriel Window.mid\n",
      "   148, clean_midi\\Enya\\Out of the Blue.1.mid\n",
      "   149, clean_midi\\Enya\\Out of the Blue.mid\n",
      "   150, clean_midi\\Eubie Blake\\Charleston Rag.mid\n",
      "   151, clean_midi\\Eubie Blake\\Chevy Chase.mid\n",
      "   152, clean_midi\\Evans Bill\\All the Things You Are.mid\n",
      "   153, clean_midi\\Evans Bill\\Danny Boy.mid\n",
      "   154, clean_midi\\Evans Bill\\The More I See You.mid\n",
      "   155, clean_midi\\Evans Bill\\When I Fall in Love.mid\n",
      "   156, clean_midi\\Evans Bill\\You Go to My Head.mid\n",
      "   157, clean_midi\\Evans Bill\\Young and Foolish.mid\n",
      "   158, clean_midi\\Falla\\El amor brujo (Love, the Magician)_ IV. El aparecido (The Apparition).mid\n",
      "   159, clean_midi\\Falla\\La Vida Breve (excerpt).mid\n",
      "   160, clean_midi\\FAURE Gabriel\\Clair de lune Op. 46 Nr. 2.mid\n",
      "   161, clean_midi\\FAURE Gabriel\\Romance Without Words in A-flat minor, Op. 17 No. 3.mid\n",
      "   162, clean_midi\\FAURE Gabriel\\Spanish Dance from Dolly Suite (orch. Rabaud).mid\n",
      "   163, clean_midi\\Floyd Cramer\\Last Date.mid\n",
      "   164, clean_midi\\Floyd Cramer\\Root Beer Rag.1.mid\n",
      "   165, clean_midi\\Fugees\\Killing Me Softly.2.mid\n",
      "   166, clean_midi\\George Benson\\On Broadway.2.mid\n",
      "   167, clean_midi\\George M. Cohan\\Yankee Doodle Dandy   Give My Regards to Broadway.mid\n",
      "   168, clean_midi\\Gershwin\\Rialto Ripples Rag.mid\n",
      "   169, clean_midi\\Glenn Frey\\You Belong To The City.mid\n",
      "   170, clean_midi\\Gounod Charles\\Ave Maria.1.mid\n",
      "   171, clean_midi\\Gounod Charles\\Marche funebre d'une marionnette.mid\n",
      "   172, clean_midi\\Gounod Charles\\Waltz from Faust.mid\n",
      "   173, clean_midi\\Granados Enrique\\El Pelele.mid\n",
      "   174, clean_midi\\Hank Jones\\'Round Midnight.mid\n",
      "   175, clean_midi\\Hank Jones\\Bluesette.mid\n",
      "   176, clean_midi\\Hank Jones\\In a Sentimental Mood.mid\n",
      "   177, clean_midi\\Hank Jones\\Medley (You Go to My Head).mid\n",
      "   178, clean_midi\\Hank Jones\\Oh Look at Me Now.mid\n",
      "   179, clean_midi\\Hank Jones\\Satin Doll.mid\n",
      "   180, clean_midi\\Hank Jones\\They Can't Take That Away From Me.mid\n",
      "   181, clean_midi\\Hank Jones\\You Took Advantage of Me.mid\n",
      "   182, clean_midi\\Harry Chapin\\Cat's In The Cradle.1.mid\n",
      "   183, clean_midi\\Haydn\\Keyboard Sonata in G major, Hob. XVI_8_ IV. Allegro.mid\n",
      "   184, clean_midi\\Haydn\\Sonata for Piano in C major, Hob. XVI_10_ I. Moderato.mid\n",
      "   185, clean_midi\\Haydn\\Sonate Hob XVI 6 _ Allegro.mid\n",
      "   186, clean_midi\\Henry Butler\\Baby, Let Me Hold Your Hand.mid\n",
      "   187, clean_midi\\Henry Butler\\Basin Street Blues.mid\n",
      "   188, clean_midi\\Henry Butler\\Blues After Midnight.mid\n",
      "   189, clean_midi\\Henry Butler\\Butler's Boogie.mid\n",
      "   190, clean_midi\\Henry Butler\\Down by the Riverside.mid\n",
      "   191, clean_midi\\Henry Butler\\Dr. Diddley.mid\n",
      "   192, clean_midi\\Henry Butler\\Dr. James.mid\n",
      "   193, clean_midi\\Henry Butler\\Orleans Inspiration.mid\n",
      "   194, clean_midi\\Henry Butler\\San Francisco Blues.mid\n",
      "   195, clean_midi\\Herbie Hancock\\My Funny Valentine.mid\n",
      "   196, clean_midi\\Holiday Billie\\I Only Have Eyes For You.mid\n",
      "   197, clean_midi\\Hughie Cannon\\Bill Bailey.mid\n",
      "   198, clean_midi\\Jackson 5\\Dancing Machine.mid\n",
      "   199, clean_midi\\Jackson Michael\\Heal The World.2.mid\n",
      "   200, clean_midi\\Jewel\\Foolish Games.mid\n",
      "   201, clean_midi\\Joe Satriani\\Day at the Beach.mid\n",
      "   202, clean_midi\\Johannes Brahms\\Hungarian Dance Nr 1 In G Minor.1.mid\n",
      "   203, clean_midi\\Johannes Brahms\\Liebeslieder Waltz, Op. 52, No. 6.mid\n",
      "   204, clean_midi\\John Denver\\Back Home Again.mid\n",
      "   205, clean_midi\\John Elton\\Blue Eyes.2.mid\n",
      "   206, clean_midi\\John Elton\\Blue Eyes.4.mid\n",
      "   207, clean_midi\\John Field\\Nocturne for piano No. 8 (9) in E minor, H46b.mid\n",
      "   208, clean_midi\\John Field\\Nocturne in F_ No.6 H40.mid\n",
      "   209, clean_midi\\Johnny Rivers\\Rainy Night in Georgia.mid\n",
      "   210, clean_midi\\Jolson. Al\\Baby Face.mid\n",
      "   211, clean_midi\\Jon Cleary\\Go Ahead Baby.mid\n",
      "   212, clean_midi\\Joseph Lamb\\American Beauty Rag (Lamb).mid\n",
      "   213, clean_midi\\Joseph Lamb\\Ragtime Nightingale (Lamb).mid\n",
      "   214, clean_midi\\Joseph Lamb\\Sensation Rag.mid\n",
      "   215, clean_midi\\Judy Collins\\Amazing Grace.1.mid\n",
      "   216, clean_midi\\King Ben E\\Stand By Me.mid\n",
      "   217, clean_midi\\Laine Cleo\\I've Got a Crush on You.mid\n",
      "   218, clean_midi\\Led Zeppelin\\Stairway To Heaven.7.mid\n",
      "   219, clean_midi\\Lena Horne\\Watch What Happens.mid\n",
      "   220, clean_midi\\Lennon John\\Imagine.2.mid\n",
      "   221, clean_midi\\Leo Friedman\\Let Me Call You Sweetheart.mid\n",
      "   222, clean_midi\\Ludwig van Beethoven\\5th Symphony.mid\n",
      "   223, clean_midi\\Ludwig van Beethoven\\Menuet in G.mid\n",
      "   224, clean_midi\\Ludwig van Beethoven\\Ode to Joy from the 9th Symphony.mid\n",
      "   225, clean_midi\\Ludwig van Beethoven\\Piano Sonata No. 14 in C-sharp minor, Op. 27 No. 2 _Moonlight__ I. Adagio sostenuto.mid\n",
      "   226, clean_midi\\Ludwig van Beethoven\\Rondo a capriccio, Op. 129.mid\n",
      "   227, clean_midi\\Mac Davis\\Baby Don't Get Hooked on Me.mid\n",
      "   228, clean_midi\\Merle Travis\\Cannonball Rag.mid\n",
      "   229, clean_midi\\Metallica\\(Anesthesia)-Pulling Teeth.1.mid\n",
      "   230, clean_midi\\Metallica\\Die, Die My Darling.mid\n",
      "   231, clean_midi\\Michael George\\Careless Whisper.1.mid\n",
      "   232, clean_midi\\Miller\\Serenade in Blue.mid\n",
      "   233, clean_midi\\Mily Balakirev\\Islamey.mid\n",
      "   234, clean_midi\\Morton Jelly Roll\\King Porter Stomp_ (Piano Instrumental).mid\n",
      "   235, clean_midi\\Morton Jelly Roll\\Maple Leaf Rag.mid\n",
      "   236, clean_midi\\Morton Jelly Roll\\The Pearls.mid\n",
      "   237, clean_midi\\Nat King Cole\\Love Letters.mid\n",
      "   238, clean_midi\\Nat King Cole\\Mona Lisa.2.mid\n",
      "   239, clean_midi\\Nat King Cole\\Nature Boy.mid\n",
      "   240, clean_midi\\Nat King Cole\\Ramblin' Rose.mid\n",
      "   241, clean_midi\\Nat King Cole\\Route 66.mid\n",
      "   242, clean_midi\\Nat King Cole\\Sweet Georgia Brown.mid\n",
      "   243, clean_midi\\Nat King Cole\\Too Young.mid\n",
      "   244, clean_midi\\Nat King Cole\\When Sunny Get's Blue.mid\n",
      "   245, clean_midi\\New Age\\Spring Waltz.mid\n",
      "   246, clean_midi\\Nine Inch Nails\\Pinion.mid\n",
      "   247, clean_midi\\Oscar Peterson\\East of the Sun.mid\n",
      "   248, clean_midi\\Oscar Peterson\\I Only Have Eyes for You.mid\n",
      "   249, clean_midi\\Oscar Peterson\\I've Got a Crush on You.mid\n",
      "   250, clean_midi\\Oscar Peterson\\John Brown's Body.mid\n",
      "   251, clean_midi\\Oscar Peterson\\This Can't Be Love.mid\n",
      "   252, clean_midi\\Oscar Peterson\\Young and Foolish.mid\n",
      "   253, clean_midi\\Parton Dolly\\Rockin' Years.mid\n",
      "   254, clean_midi\\Patsy Cline\\Crazy.mid\n",
      "   255, clean_midi\\Patsy Cline\\Just a Closer Walk With Thee.mid\n",
      "   256, clean_midi\\Paul Simon\\The Sound of Silence.mid\n",
      "   257, clean_midi\\Percy Grainger\\Danny Boy.mid\n",
      "   258, clean_midi\\Percy Grainger\\Shepherd's Hey!.mid\n",
      "   259, clean_midi\\Phish\\Bliss.mid\n",
      "   260, clean_midi\\Pink Floyd\\Another Brick in the Wall, Part 2.10.mid\n",
      "   261, clean_midi\\Pink Floyd\\Bike.1.mid\n",
      "   262, clean_midi\\Pink Floyd\\Sheep.mid\n",
      "   263, clean_midi\\Pink Floyd\\The Final Cut.mid\n",
      "   264, clean_midi\\Pink Floyd\\Us and Them.1.mid\n",
      "   265, clean_midi\\Powell Bud\\Sweet Georgia Brown.mid\n",
      "   266, clean_midi\\Professor Longhair\\Big Chief.1.mid\n",
      "   267, clean_midi\\Professor Longhair\\Big Chief.mid\n",
      "   268, clean_midi\\Professor Longhair\\Mardi Grass in New Orleans.mid\n",
      "   269, clean_midi\\Queen\\Procession.mid\n",
      "   270, clean_midi\\Ray Charles\\Georgia.mid\n",
      "   271, clean_midi\\Roberta Flack\\Killing Me Softly.mid\n",
      "   272, clean_midi\\Rogers Kenny\\She Believes In Me.mid\n",
      "   273, clean_midi\\Scott James\\Grace and Beauty.1.mid\n",
      "   274, clean_midi\\Scott James\\Sunburst Rag.mid\n",
      "   275, clean_midi\\Scott Joplin\\A Breeze From Alabama.mid\n",
      "   276, clean_midi\\Scott Joplin\\Binks' Waltz.mid\n",
      "   277, clean_midi\\Scott Joplin\\Country Club.mid\n",
      "   278, clean_midi\\Scott Joplin\\Dill Pickles Rag (Chris Chapman).mid\n",
      "   279, clean_midi\\Scott Joplin\\Elite Syncopations.mid\n",
      "   280, clean_midi\\Scott Joplin\\Felicity Rag.mid\n",
      "   281, clean_midi\\Scott Joplin\\Fig Leaf Rag.mid\n",
      "   282, clean_midi\\Scott Joplin\\Gladiolus Rag.mid\n",
      "   283, clean_midi\\Scott Joplin\\Heliotrope Bouquet.mid\n",
      "   284, clean_midi\\Scott Joplin\\Kismet Rag.mid\n",
      "   285, clean_midi\\Scott Joplin\\Lily Queen.mid\n",
      "   286, clean_midi\\Scott Joplin\\Magnetic Rag.mid\n",
      "   287, clean_midi\\Scott Joplin\\Maple Leaf Rag.mid\n",
      "   288, clean_midi\\Scott Joplin\\Original Rag.mid\n",
      "   289, clean_midi\\Scott Joplin\\Palm Leaf Rag.mid\n",
      "   290, clean_midi\\Scott Joplin\\Paragon Rag.1.mid\n",
      "   291, clean_midi\\Scott Joplin\\Peacherine Rag.mid\n",
      "   292, clean_midi\\Scott Joplin\\Pine Apple Rag.mid\n",
      "   293, clean_midi\\Scott Joplin\\Pleasant Moments.mid\n",
      "   294, clean_midi\\Scott Joplin\\Reflection Rag.mid\n",
      "   295, clean_midi\\Scott Joplin\\Rose Leaf Rag.mid\n",
      "   296, clean_midi\\Scott Joplin\\Scott Joplin's New Rag.mid\n",
      "   297, clean_midi\\Scott Joplin\\Searchlight Rag.mid\n",
      "   298, clean_midi\\Scott Joplin\\Something Doing.mid\n",
      "   299, clean_midi\\Scott Joplin\\Stoptime Rag.mid\n",
      "   300, clean_midi\\Scott Joplin\\Sugar Cane.mid\n",
      "   301, clean_midi\\Scott Joplin\\Sunflower Slow Drag.mid\n",
      "   302, clean_midi\\Scott Joplin\\The Cascades.mid\n",
      "   303, clean_midi\\Scott Joplin\\The Chrysanthemum.mid\n",
      "   304, clean_midi\\Scott Joplin\\The Easy Winners.mid\n",
      "   305, clean_midi\\Scott Joplin\\The Entertainer.mid\n",
      "   306, clean_midi\\Scott Joplin\\The Favorite.mid\n",
      "   307, clean_midi\\Scott Joplin\\The Nonpareil.mid\n",
      "   308, clean_midi\\Scott Joplin\\The Ragtime Dance.mid\n",
      "   309, clean_midi\\Scott Joplin\\The Strenuous Life (Rag-Time Two-Step).mid\n",
      "   310, clean_midi\\Scott Joplin\\The Sycamore.mid\n",
      "   311, clean_midi\\Scott Joplin\\Wall Street Rag.mid\n",
      "   312, clean_midi\\Scott Joplin\\Weeping Willow Rag.mid\n",
      "   313, clean_midi\\Shearing George\\Beautiful Love.mid\n",
      "   314, clean_midi\\Shearing George\\Happy Days Are Here Again.mid\n",
      "   315, clean_midi\\Shearing George\\I Can't Get Started.mid\n",
      "   316, clean_midi\\Shearing George\\I'll Remember April.mid\n",
      "   317, clean_midi\\Shearing George\\If I Should Lose You.1.mid\n",
      "   318, clean_midi\\Shearing George\\If I Should Lose You.mid\n",
      "   319, clean_midi\\Shearing George\\Londonderry Air.mid\n",
      "   320, clean_midi\\Shearing George\\Lullaby of Birdland.mid\n",
      "   321, clean_midi\\Shearing George\\Roses of Picardy.mid\n",
      "   322, clean_midi\\Shearing George\\September in the Rain.mid\n",
      "   323, clean_midi\\Shearing George\\Someone to Watch Over Me.mid\n",
      "   324, clean_midi\\Shearing George\\The Nearness of You.mid\n",
      "   325, clean_midi\\Shearing George\\Too Close for Comfort.mid\n",
      "   326, clean_midi\\Soundgarden\\One Minute of Silence.mid\n",
      "   327, clean_midi\\Steve Winwood\\Higher Love.1.mid\n",
      "   328, clean_midi\\Sublime\\Poolshark.mid\n",
      "   329, clean_midi\\Tatum Art\\Stardust.mid\n",
      "   330, clean_midi\\Tatum Art\\The Very Thought of You.mid\n",
      "   331, clean_midi\\The Beatles\\Eight Days A Week.4.mid\n",
      "   332, clean_midi\\The Beatles\\Hey Jude.mid\n",
      "   333, clean_midi\\The Beatles\\I'm Gonna Sit Right Down and Cry (Over You).mid\n",
      "   334, clean_midi\\The Beatles\\In My Life.1.mid\n",
      "   335, clean_midi\\The Beatles\\In My Life.5.mid\n",
      "   336, clean_midi\\The Beatles\\Sgt. Pepper Inner Groove.mid\n",
      "   337, clean_midi\\The Five Satins\\In the Still of the Nite.mid\n",
      "   338, clean_midi\\Thelonious Monk\\Nice Work If You Can Get It.mid\n",
      "   339, clean_midi\\Tom McDermott\\Heavy Henry.mid\n",
      "   340, clean_midi\\Tom Turpin\\St. Louis Rag.mid\n",
      "   341, clean_midi\\Tommy Flanagan\\I Can't Get Started.mid\n",
      "   342, clean_midi\\U2\\The Electric Co..1.mid\n",
      "   343, clean_midi\\Van Halen\\316.mid\n",
      "   344, clean_midi\\Van Morrison\\Someone Like You.mid\n",
      "   345, clean_midi\\Waller Fats\\Tea for Two.mid\n",
      "   346, clean_midi\\Walter Donaldson\\My Blue Heaven.mid\n",
      "   347, clean_midi\\Warren\\The More I See You.mid\n",
      "   348, clean_midi\\Whitney Houston\\All at Once.mid\n",
      "   349, clean_midi\\Whitney Houston\\Didn't We Almost Have It All.1.mid\n",
      "   350, clean_midi\\Whitney Houston\\Greatest Love of All.mid\n",
      "   351, clean_midi\\Whitney Houston\\How Will I Know.1.mid\n",
      "   352, clean_midi\\Whitney Houston\\I Know Him So Well.mid\n",
      "   353, clean_midi\\Whitney Houston\\Saving All My Love For You.6.mid\n",
      "   354, clean_midi\\Whitney Houston\\Where Do Broken Hearts Go.2.mid\n",
      "   355, clean_midi\\Whitney Houston\\You Give Good Love.mid\n",
      "   356, clean_midi\\Whitney Houston\\You're Still My Man.mid\n",
      "   357, clean_midi\\Wilson Teddy\\As Time Goes By.mid\n",
      "   358, clean_midi\\Wilson Teddy\\Body and Soul.mid\n",
      "   359, clean_midi\\Wilson Teddy\\Cheek to Cheek.mid\n",
      "   360, clean_midi\\Wilson Teddy\\I Can't Get Started.mid\n",
      "   361, clean_midi\\Wilson Teddy\\Lullaby of Birdland.mid\n",
      "   362, clean_midi\\Wing\\Baby Face.mid\n",
      "   363, clean_midi\\Yanni\\Swept Away.1.mid\n",
      "Number of 1-instrument MIDI files: 363\n"
     ]
    }
   ],
   "source": [
    "data_dir = pathlib.Path('../data')\n",
    "filenames = glob.glob(str('**/*/*.mid*'),root_dir=data_dir)\n",
    "print('Number of all MIDI files:', len(filenames)) # 364\n",
    "# ok  = open('ok.txt', 'wt', encoding=\"utf-8\")\n",
    "# bad = open('bad.txt', 'wt', encoding=\"utf-8\")\n",
    "# good= open('good.csv', 'wt', encoding=\"utf-8\")\n",
    "\n",
    "s=-1\n",
    "for fn in filenames:\n",
    "    s+=1\n",
    "    rel_path = str(data_dir)+'\\\\'+fn\n",
    "    print(f'{s:6d}, {fn}')\n",
    "    # print(f', {pathlib.PurePath(fn).parts[1]}/{pathlib.PurePath(fn).name}')\n",
    "    # try:\n",
    "        # pm = pretty_midi.PrettyMIDI(rel_path)\n",
    "\n",
    "    # except:\n",
    "        # log and delete all the invalid MIDI flies\n",
    "        # bad.write(f'{s:6d}, {fn}\\n')\n",
    "        # pathlib.Path(rel_path).unlink(missing_ok=True)\n",
    "        # continue\n",
    "\n",
    "    # if len(pm.instruments)==1:\n",
    "    #     s+=1\n",
    "        # print(f'good {s:6d}\\t{fn}')\n",
    "    # good.write(f'{s:6d}, {rel_path}\\n')\n",
    "    # else:\n",
    "\n",
    "        # i=0\n",
    "        # print(f'ok {s:6d}\\t{fn}')\n",
    "        # ok.write(f'ok {s:6d}, {rel_path}\\n')\n",
    "        # for inst in pm.instruments:\n",
    "        #     i+=1\n",
    "        #     ok.write(f'\\t{i:2d}. {inst.program:3d}, {pretty_midi.program_to_instrument_name(inst.program)}\\n')\n",
    "print('Number of 1-instrument MIDI files:', s) # 1656 = 374 pop + 1282 maestro\n",
    "\n",
    "# good.close()\n",
    "# bad.close()\n",
    "# ok.close()"
   ],
   "metadata": {
    "collapsed": false
   }
  },
  {
   "cell_type": "markdown",
   "metadata": {
    "id": "KVQfV2hVKB28"
   },
   "source": [
    "## Extract notes"
   ]
  },
  {
   "cell_type": "markdown",
   "metadata": {
    "id": "jutzynyqX_GC"
   },
   "source": [
    "Three variables that represent a note are: `pitch`, `step` and `duration`.\n",
    "The `pitch` is the perceptual quality of the sound as a MIDI note number.\n",
    "The `step` is the time elapsed from the previous note or start of the track.\n",
    "The `duration` is how long the note will be playing in seconds and `duration` = note end - start times.\n",
    "To simplify the sampling process I will extract one-instrument MIDI files to a notes dataframe."
   ]
  },
  {
   "cell_type": "code",
   "execution_count": 3,
   "outputs": [],
   "source": [
    "def midi_to_notes(midi_file: str) -> pd.DataFrame:\n",
    "    pm = pretty_midi.PrettyMIDI(midi_file)\n",
    "    # 1st & only instrument\n",
    "    instrument = pm.instruments[0]\n",
    "    notes = collections.defaultdict(list)\n",
    "\n",
    "    # Sort the notes by start time\n",
    "    sorted_notes = sorted(instrument.notes, key=lambda note: note.start)\n",
    "    _start = sorted_notes[0].start\n",
    "\n",
    "    for note in sorted_notes:\n",
    "        start = note.start\n",
    "        end = note.end\n",
    "        notes['pitch'].append(note.pitch)\n",
    "        notes['start'].append(start)\n",
    "        notes['end'].append(end)\n",
    "        notes['step'].append(start - _start)\n",
    "        notes['duration'].append(end - start)\n",
    "        _start = start\n",
    "\n",
    "    return pd.DataFrame({name: np.array(value) for name, value in notes.items()})"
   ],
   "metadata": {
    "collapsed": false,
    "ExecuteTime": {
     "end_time": "2023-07-19T01:43:08.767825200Z",
     "start_time": "2023-07-19T01:43:08.751954500Z"
    }
   }
  },
  {
   "cell_type": "code",
   "execution_count": 4,
   "metadata": {
    "execution": {
     "iopub.execute_input": "2022-06-28T01:21:53.732648Z",
     "iopub.status.busy": "2022-06-28T01:21:53.732105Z",
     "iopub.status.idle": "2022-06-28T01:21:53.736915Z",
     "shell.execute_reply": "2022-06-28T01:21:53.736425Z"
    },
    "id": "liD2N7x_WOTp",
    "ExecuteTime": {
     "end_time": "2023-07-19T01:43:09.507922200Z",
     "start_time": "2023-07-19T01:43:09.476168400Z"
    }
   },
   "outputs": [],
   "source": [
    "def plot_track_notes(notes: pd.DataFrame, name: Optional[str] = None):\n",
    "    if name:\n",
    "        title = f'{name}'\n",
    "    else:\n",
    "        title = f'The whole enchilada'\n",
    "    count = len(notes['pitch'])\n",
    "    plt.figure(figsize=(20, 4))\n",
    "    plot_pitch = np.stack([notes['pitch'], notes['pitch']], axis=0)\n",
    "    plot_start_stop = np.stack([notes['start'], notes['end']], axis=0)\n",
    "    plt.plot(plot_start_stop[:, :count], plot_pitch[:, :count], color=\"g\", marker=\"o\")\n",
    "    plt.xlabel('Time [s]')\n",
    "    plt.ylabel('Pitch')\n",
    "    _ = plt.title(title)"
   ]
  },
  {
   "cell_type": "code",
   "execution_count": 5,
   "outputs": [],
   "source": [
    "def plot_track_notes_distro(notes: pd.DataFrame, drop_percentile=2.5, title=''):\n",
    "    plt.figure(figsize=[15, 5])\n",
    "    plt.subplot(1, 3, 1)\n",
    "    sns.histplot(notes, x=\"pitch\", bins=20, color='green')\n",
    "\n",
    "    plt.subplot(1, 3, 2)\n",
    "    plt.title(title)\n",
    "    max_step = np.percentile(notes['step'], 100 - drop_percentile)\n",
    "    sns.histplot(notes, x=\"step\", bins=np.linspace(0, max_step, 21), color='green')\n",
    "\n",
    "    plt.subplot(1, 3, 3)\n",
    "    max_duration = np.percentile(notes['duration'], 100 - drop_percentile)\n",
    "    sns.histplot(notes, x=\"duration\", bins=np.linspace(0, max_duration, 21), color='green')"
   ],
   "metadata": {
    "collapsed": false
   }
  },
  {
   "cell_type": "code",
   "execution_count": 6,
   "outputs": [
    {
     "name": "stderr",
     "output_type": "stream",
     "text": [
      "C:\\Python310\\lib\\site-packages\\pretty_midi\\pretty_midi.py:100: RuntimeWarning: Tempo, Key or Time signature change events found on non-zero tracks.  This is not a valid type 0 or type 1 MIDI file.  Tempo, Key or Time Signature may be wrong.\n",
      "  warnings.warn(\n"
     ]
    },
    {
     "name": "stdout",
     "output_type": "stream",
     "text": [
      "706590 number of notes parsed from the 363 tracks.\n"
     ]
    }
   ],
   "source": [
    "all_notes = []\n",
    "for i in faves:\n",
    "    fn=pathlib.Path(filenames[i])\n",
    "    f=fn.relative_to(fn.parents[1])\n",
    "    file = str(data_dir)+'\\\\'+filenames[i]\n",
    "    notes = midi_to_notes(file)\n",
    "    # print(f'{i}   {f}')\n",
    "    # plot_track_notes(notes, f)\n",
    "    # plot_track_notes_distro(notes,DROP_PCT, f'{i}   {f}')\n",
    "    all_notes.append(notes)\n",
    "all_notes = pd.concat(all_notes)\n",
    "print(f'{len(all_notes)} number of notes parsed from the {len(faves)} tracks.')"
   ],
   "metadata": {
    "collapsed": false
   }
  },
  {
   "cell_type": "code",
   "execution_count": 7,
   "outputs": [
    {
     "data": {
      "text/plain": "<Figure size 2000x400 with 1 Axes>",
      "image/png": "[encoded data removed]"
     },
     "metadata": {},
     "output_type": "display_data"
    },
    {
     "data": {
      "text/plain": "<Figure size 1500x500 with 3 Axes>",
      "image/png": "[encoded data removed]"
     },
     "metadata": {},
     "output_type": "display_data"
    }
   ],
   "source": [
    "plot_track_notes(all_notes)\n",
    "plot_track_notes_distro(all_notes)"
   ],
   "metadata": {
    "collapsed": false
   }
  },
  {
   "cell_type": "markdown",
   "source": [
    "To visualize the musical piece the `plot_track_notes` function plots the notes `pitch` values, `start` and `end` (as I showed in `midi_to_notes` function above the `step` and `duration` are derived from those) across the length of track(s). The individual tracks plots look informative, however plot of the notes of all of the tracks, superimposed, looks a bit overwhelming. The `step` histogram looks dominated by step=0.0 values (~half) which appears to be a problem (discussed further down in my project). 706590 number of notes, from 363 tracks; Bach Johann Sebastian, 33560 number of notes parsed from 21 tracks."
   ],
   "metadata": {
    "collapsed": false
   }
  },
  {
   "cell_type": "markdown",
   "source": [
    "## Save an existing MIDI file with different instruments"
   ],
   "metadata": {
    "collapsed": false
   }
  },
  {
   "cell_type": "code",
   "execution_count": 8,
   "outputs": [],
   "source": [
    "_instruments=['Seashore'] # ['Acoustic Grand Piano','Harpsichord','Electric Guitar (jazz)','Electric Bass (finger)','Cello','Sitar','Bagpipe','Baritone Sax','Seashore','Voice Oohs']\n",
    "def notes_to_midi(\n",
    "    notes: pd.DataFrame,\n",
    "    out_file: str,\n",
    "    instrument_name: str,\n",
    "    velocity: int = 100,  # note loudness\n",
    ") -> pretty_midi.PrettyMIDI:\n",
    "\n",
    "    pm = pretty_midi.PrettyMIDI()\n",
    "    instrument = pretty_midi.Instrument(program=pretty_midi.instrument_name_to_program(instrument_name))\n",
    "\n",
    "    _start = 0\n",
    "    for i, note in notes.iterrows():\n",
    "        start = float(_start + note['step'])\n",
    "        end = float(start + note['duration'])\n",
    "        note = pretty_midi.Note(\n",
    "            velocity=velocity,\n",
    "            pitch=int(note['pitch']),\n",
    "            start=start,\n",
    "            end=end,\n",
    "        )\n",
    "        instrument.notes.append(note)\n",
    "        _start = start\n",
    "\n",
    "    pm.instruments.append(instrument)\n",
    "    pm.write(out_file)\n",
    "    return pm"
   ],
   "metadata": {
    "collapsed": false
   }
  },
  {
   "cell_type": "markdown",
   "source": [
    "Let's save MIDI files by changing the instrument, still 1-instrument MIDI files, though. Disk space-consuming!"
   ],
   "metadata": {
    "collapsed": false
   }
  },
  {
   "cell_type": "code",
   "execution_count": 19,
   "metadata": {
    "execution": {
     "iopub.execute_input": "2022-06-28T01:21:58.706874Z",
     "iopub.status.busy": "2022-06-28T01:21:58.706397Z",
     "iopub.status.idle": "2022-06-28T01:21:59.126506Z",
     "shell.execute_reply": "2022-06-28T01:21:59.125888Z"
    },
    "id": "wTazLbuWPIPF",
    "ExecuteTime": {
     "end_time": "2023-07-19T02:25:32.524462900Z",
     "start_time": "2023-07-19T02:25:32.508941300Z"
    }
   },
   "outputs": [],
   "source": [
    "for s in faves:\n",
    "    _p=pathlib.PurePath(filenames[s])\n",
    "    for i in _instruments:\n",
    "        out_path =  f'{data_dir}/generated/{i}/{_p.parts[1]}'\n",
    "        pathlib.Path(out_path).mkdir(parents=True, exist_ok=True)\n",
    "        out_file = f'{out_path}/{_p.name}'\n",
    "        notes = midi_to_notes(str(data_dir) + '/' + filenames[s])\n",
    "        pm = notes_to_midi(notes, out_file=out_file, instrument_name=i)"
   ]
  },
  {
   "cell_type": "markdown",
   "metadata": {
    "id": "pfRNk9tEScuf"
   },
   "source": [
    "## Create the training dataset"
   ]
  },
  {
   "cell_type": "markdown",
   "metadata": {
    "id": "b77zHR1udDrK"
   },
   "source": [
    "A training `tf.data.Dataset` is created from the parsed MIDI files notes. With the 12 files, was not the best, so Let's try now with the whole clean midi set and see how it goes."
   ]
  },
  {
   "cell_type": "code",
   "execution_count": 20,
   "metadata": {
    "execution": {
     "iopub.execute_input": "2022-06-28T01:22:02.742494Z",
     "iopub.status.busy": "2022-06-28T01:22:02.741997Z",
     "iopub.status.idle": "2022-06-28T01:22:02.745893Z",
     "shell.execute_reply": "2022-06-28T01:22:02.745366Z"
    },
    "id": "mvNHCHZdXG2P",
    "ExecuteTime": {
     "end_time": "2023-07-19T02:25:37.557041300Z",
     "start_time": "2023-07-19T02:25:37.525621700Z"
    }
   },
   "outputs": [
    {
     "data": {
      "text/plain": "TensorSpec(shape=(3,), dtype=tf.float64, name=None)"
     },
     "execution_count": 20,
     "metadata": {},
     "output_type": "execute_result"
    }
   ],
   "source": [
    "key_order = ['pitch', 'step', 'duration']\n",
    "train_notes = np.stack([all_notes[key] for key in key_order], axis=1)\n",
    "notes_ds = tf.data.Dataset.from_tensor_slices(train_notes)\n",
    "notes_ds.element_spec"
   ]
  },
  {
   "cell_type": "markdown",
   "metadata": {
    "id": "Sj9SXRCjt3I7"
   },
   "source": [
    "Let's train the model on batches of sequences of notes. Each example will consist of a sequence of notes as the input features, and the next note as the label. This way, the model will be trained to predict the next note in a sequence."
   ]
  },
  {
   "cell_type": "code",
   "execution_count": 21,
   "metadata": {
    "execution": {
     "iopub.execute_input": "2022-06-28T01:22:05.722272Z",
     "iopub.status.busy": "2022-06-28T01:22:05.721706Z",
     "iopub.status.idle": "2022-06-28T01:22:05.727520Z",
     "shell.execute_reply": "2022-06-28T01:22:05.726965Z"
    },
    "id": "ZkEC-5s6wJJV",
    "ExecuteTime": {
     "end_time": "2023-07-19T02:25:41.213398300Z",
     "start_time": "2023-07-19T02:25:41.197736500Z"
    }
   },
   "outputs": [],
   "source": [
    "def create_sequences(\n",
    "    dataset: tf.data.Dataset, \n",
    "    seq_length: int,\n",
    "    note_range = NOTES,\n",
    ") -> tf.data.Dataset:\n",
    "    \"\"\"Returns TF Dataset of sequence and label examples.\"\"\"\n",
    "\n",
    "    # 1 extra for the labels\n",
    "    seq_length = seq_length+1\n",
    "\n",
    "    # see https://www.tensorflow.org/api_docs/python/tf/data/Dataset#window\n",
    "    windows = dataset.window(seq_length, shift=1, stride=1, drop_remainder=True)\n",
    "\n",
    "    # `flat_map` flattens the\" dataset of datasets\" into a dataset of tensors\n",
    "    flatten = lambda x: x.batch(seq_length, drop_remainder=True)\n",
    "    sequences = windows.flat_map(flatten)\n",
    "  \n",
    "    # Normalize note pitch\n",
    "    def scale_pitch(x):\n",
    "        x = x/[note_range, 1.0, 1.0]\n",
    "        return x\n",
    "\n",
    "    # Split the labels\n",
    "    def split_labels(sequences):\n",
    "        inputs = sequences[:-1]\n",
    "        labels_dense = sequences[-1]\n",
    "        labels = {key:labels_dense[i] for i,key in enumerate(key_order)}\n",
    "\n",
    "        return scale_pitch(inputs), labels\n",
    "\n",
    "    return sequences.map(split_labels, num_parallel_calls=tf.data.AUTOTUNE)"
   ]
  },
  {
   "cell_type": "markdown",
   "source": [
    "Let's set the sequence length `SEQ_LEN = 128`, and experiment with different lengths (e.g. 50, 100, 150, 200) to see which one works best for the data."
   ],
   "metadata": {
    "collapsed": false
   }
  },
  {
   "cell_type": "code",
   "execution_count": 22,
   "outputs": [],
   "source": [
    "# print(f'pitch -- note')\n",
    "# for i in range(12,132,1):\n",
    "#     print(f'{i:5d} -- {pretty_midi.note_number_to_name(i)}')"
   ],
   "metadata": {
    "collapsed": false
   }
  },
  {
   "cell_type": "markdown",
   "source": [
    "Let's set the range of MIDI notes range `NOTES = 128` representing the pitches supported by `pretty_midi`."
   ],
   "metadata": {
    "collapsed": false
   }
  },
  {
   "cell_type": "code",
   "execution_count": 23,
   "outputs": [],
   "source": [
    "seq_ds = create_sequences(notes_ds, SEQ_LEN, NOTES)\n",
    "# seq_ds.element_spec"
   ],
   "metadata": {
    "collapsed": false
   }
  },
  {
   "cell_type": "markdown",
   "metadata": {
    "id": "AX9nKmSYetGo"
   },
   "source": [
    "The shape of the dataset is ```(128,3)```, meaning that the model has 128 notes by the 3 `pitch, step, duration` as input. The `take(1)` method will learn to predict the following 1 note as output."
   ]
  },
  {
   "cell_type": "code",
   "execution_count": 24,
   "metadata": {
    "execution": {
     "iopub.execute_input": "2022-06-28T01:22:05.828822Z",
     "iopub.status.busy": "2022-06-28T01:22:05.828249Z",
     "iopub.status.idle": "2022-06-28T01:22:05.863476Z",
     "shell.execute_reply": "2022-06-28T01:22:05.862849Z"
    },
    "id": "ESK9cL7__TF3",
    "ExecuteTime": {
     "end_time": "2023-07-19T02:25:46.167055600Z",
     "start_time": "2023-07-19T02:25:46.001702300Z"
    }
   },
   "outputs": [
    {
     "name": "stdout",
     "output_type": "stream",
     "text": [
      "sequence shape: (128, 3)\n",
      "sequence elements (first 7): tf.Tensor(\n",
      "[[0.5859375  0.         0.03053094]\n",
      " [0.6171875  0.         0.12571562]\n",
      " [0.59375    0.02693906 0.1293075 ]\n",
      " [0.5234375  0.19216531 0.18498156]\n",
      " [0.5234375  0.32506469 0.13289938]\n",
      " [0.5390625  0.11494    0.13828719]\n",
      " [0.5234375  0.21910438 0.03591875]\n",
      " [0.5859375  0.1005725  0.05387813]\n",
      " [0.28125    0.         0.48131125]\n",
      " [0.375      0.00359188 0.488495  ]\n",
      " [0.6171875  0.00359188 0.1293075 ]\n",
      " [0.59375    0.03951062 0.09338875]\n",
      " [0.6171875  0.29094188 0.1580425 ]\n",
      " [0.5859375  0.00359188 0.04130656]\n",
      " [0.59375    0.03771469 0.10955219]\n",
      " [0.359375   0.31428906 0.46335188]\n",
      " [0.265625   0.         0.46694375]\n",
      " [0.2578125  0.57829188 0.53878125]\n",
      " [0.3515625  0.00538781 0.55494469]\n",
      " [0.6171875  0.47951531 0.10596031]\n",
      " [0.5859375  0.00359188 0.028735  ]\n",
      " [0.59375    0.01795937 0.1293075 ]\n",
      " [0.25       0.21192063 0.39869813]\n",
      " [0.34375    0.         0.40049406]\n",
      " [0.5234375  0.00359187 0.19036938]\n",
      " [0.5234375  0.35559563 0.05387812]\n",
      " [0.5078125  0.00359187 0.04849031]\n",
      " [0.2421875  0.08979688 0.1293075 ]\n",
      " [0.3359375  0.00359188 0.17600187]\n",
      " [0.5390625  0.00179594 0.18857344]\n",
      " [0.5234375  0.23167594 0.06824563]\n",
      " [0.5859375  0.09698063 0.06465375]\n",
      " [0.6171875  0.00538781 0.13828719]\n",
      " [0.28125    0.00718375 0.46514781]\n",
      " [0.375      0.00359187 0.44359656]\n",
      " [0.59375    0.03412281 0.12032781]\n",
      " [0.6171875  0.31069719 0.18318563]\n",
      " [0.5859375  0.00179594 0.03591875]\n",
      " [0.59375    0.03232687 0.14187906]\n",
      " [0.359375   0.1867775  0.65731312]\n",
      " [0.265625   0.00538781 0.68784406]\n",
      " [0.5625     0.12751156 0.16522625]\n",
      " [0.578125   0.21910438 0.05028625]\n",
      " [0.5625     0.04669437 0.0718375 ]\n",
      " [0.5390625  0.06465375 0.12571562]\n",
      " [0.2578125  0.33763625 0.47771937]\n",
      " [0.3515625  0.00897969 0.45796406]\n",
      " [0.6171875  0.32865656 0.12391969]\n",
      " [0.5859375  0.00538781 0.03771469]\n",
      " [0.59375    0.03412281 0.11494   ]\n",
      " [0.5234375  0.19755313 0.1867775 ]\n",
      " [0.34375    0.00538781 0.41486156]\n",
      " [0.25       0.00538781 0.40588187]\n",
      " [0.5234375  0.36277937 0.06465375]\n",
      " [0.2421875  0.1005725  0.11494   ]\n",
      " [0.5390625  0.00359187 0.21192063]\n",
      " [0.3359375  0.00538781 0.14906281]\n",
      " [0.5234375  0.23347188 0.06644969]\n",
      " [0.5859375  0.09698062 0.03771469]\n",
      " [0.6171875  0.01077563 0.14547094]\n",
      " [0.375      0.         0.50465844]\n",
      " [0.28125    0.         0.52620969]\n",
      " [0.59375    0.03053094 0.15445062]\n",
      " [0.5234375  0.2155125  0.05747   ]\n",
      " [0.5859375  0.086205   0.02334719]\n",
      " [0.6171875  0.         0.1293075 ]\n",
      " [0.59375    0.01975531 0.09518469]\n",
      " [0.359375   0.33224844 0.431025  ]\n",
      " [0.265625   0.         0.44000469]\n",
      " [0.2578125  0.56392437 0.52082188]\n",
      " [0.3515625  0.00538781 0.54416906]\n",
      " [0.6171875  0.45796406 0.14726687]\n",
      " [0.5859375  0.00538781 0.03771469]\n",
      " [0.59375    0.03771469 0.14008313]\n",
      " [0.34375    0.18138969 0.38971844]\n",
      " [0.25       0.00179594 0.39510625]\n",
      " [0.5234375  0.00359187 0.21910438]\n",
      " [0.5234375  0.34482    0.11853188]\n",
      " [0.5390625  0.09698063 0.22988   ]\n",
      " [0.2421875  0.00179594 0.13469531]\n",
      " [0.3359375  0.00538781 0.18318563]\n",
      " [0.5234375  0.22269625 0.028735  ]\n",
      " [0.375      0.12571562 0.431025  ]\n",
      " [0.28125    0.00359187 0.45078031]\n",
      " [0.46875    0.00359187 0.09518469]\n",
      " [0.5625     0.         0.11494   ]\n",
      " [0.5625     0.20832875 0.05387813]\n",
      " [0.46875    0.00359188 0.03591875]\n",
      " [0.46875    0.13649125 0.06824563]\n",
      " [0.5625     0.00359187 0.10596031]\n",
      " [0.5        0.1867775  0.0718375 ]\n",
      " [0.59375    0.00359187 0.09338875]\n",
      " [0.359375   0.00179594 0.45078031]\n",
      " [0.265625   0.         0.45257625]\n",
      " [0.5        0.14906281 0.09698063]\n",
      " [0.59375    0.00359187 0.11494   ]\n",
      " [0.5        0.21910438 0.0431025 ]\n",
      " [0.59375    0.00538781 0.07363344]\n",
      " [0.3515625  0.1293075  0.44359656]\n",
      " [0.2578125  0.00179594 0.42922906]\n",
      " [0.5234375  0.00718375 0.11134812]\n",
      " [0.6171875  0.         0.13289937]\n",
      " [0.5234375  0.20832875 0.05028625]\n",
      " [0.6171875  0.         0.06824562]\n",
      " [0.5234375  0.143675   0.05747   ]\n",
      " [0.6171875  0.         0.1005725 ]\n",
      " [0.34375    0.19755313 0.42204531]\n",
      " [0.25       0.         0.42204531]\n",
      " [0.5625     0.00718375 0.06106188]\n",
      " [0.65625    0.         0.08979687]\n",
      " [0.6484375  0.00538781 0.00538781]\n",
      " [0.5625     0.13469531 0.06106188]\n",
      " [0.65625    0.         0.09698063]\n",
      " [0.65625    0.19396125 0.05747   ]\n",
      " [0.5625     0.00359188 0.05747   ]\n",
      " [0.3359375  0.1293075  0.21012469]\n",
      " [0.2421875  0.00359187 0.20473688]\n",
      " [0.640625   0.00359187 0.14726687]\n",
      " [0.546875   0.00179594 0.12751156]\n",
      " [0.6328125  0.201145   0.04489844]\n",
      " [0.5390625  0.00359187 0.04489844]\n",
      " [0.328125   0.10955219 0.25143125]\n",
      " [0.234375   0.00718375 0.25143125]\n",
      " [0.5234375  0.00359187 0.15445063]\n",
      " [0.6171875  0.00179594 0.08800094]\n",
      " [0.2265625  0.34661594 0.49208688]\n",
      " [0.3203125  0.00359187 0.45257625]\n",
      " [0.5234375  0.35200375 0.21192063]], shape=(128, 3), dtype=float64)\n",
      " ...predicting...\n",
      " pitch\t\t step\t\tduration\n",
      " 0.4922\t\t 0.0054\t\t0.2604\n"
     ]
    }
   ],
   "source": [
    "for seq, target in seq_ds.take(1):\n",
    "    print('sequence shape:', seq.shape)\n",
    "    print('sequence elements (first 7):', seq)\n",
    "    print(' ...predicting...')\n",
    "    print(f' pitch\\t\\t step\\t\\tduration')\n",
    "    print(f' {target[\"pitch\"]/NOTES:1.4f}\\t\\t {target[\"step\"]:1.4f}\\t\\t{target[\"duration\"]:1.4f}')"
   ]
  },
  {
   "cell_type": "markdown",
   "metadata": {
    "id": "kR3TVZZGk5Qq"
   },
   "source": [
    "Batch the notes, set initial sequence, and configure the dataset for performance."
   ]
  },
  {
   "cell_type": "code",
   "execution_count": 25,
   "metadata": {
    "execution": {
     "iopub.execute_input": "2022-06-28T01:22:05.866812Z",
     "iopub.status.busy": "2022-06-28T01:22:05.866296Z",
     "iopub.status.idle": "2022-06-28T01:22:05.873164Z",
     "shell.execute_reply": "2022-06-28T01:22:05.872612Z"
    },
    "id": "fTpFoiM_AV_Y",
    "ExecuteTime": {
     "end_time": "2023-07-19T02:26:23.012755100Z",
     "start_time": "2023-07-19T02:26:22.950045900Z"
    }
   },
   "outputs": [],
   "source": [
    "n_notes = len(notes)\n",
    "buffer_size = n_notes - SEQ_LEN # the number of items in the dataset - init sequence\n",
    "train_ds = (seq_ds\n",
    "            .shuffle(buffer_size)\n",
    "            .batch(BATCH_SZ, drop_remainder=True)\n",
    "            .cache()\n",
    "            .prefetch(tf.data.experimental.AUTOTUNE)) # other options?"
   ]
  },
  {
   "cell_type": "code",
   "execution_count": 26,
   "metadata": {
    "execution": {
     "iopub.execute_input": "2022-06-28T01:22:05.876182Z",
     "iopub.status.busy": "2022-06-28T01:22:05.875916Z",
     "iopub.status.idle": "2022-06-28T01:22:05.879796Z",
     "shell.execute_reply": "2022-06-28T01:22:05.879185Z"
    },
    "id": "LySbjV0GzXQu",
    "ExecuteTime": {
     "end_time": "2023-07-19T02:26:24.498940300Z",
     "start_time": "2023-07-19T02:26:24.465213800Z"
    }
   },
   "outputs": [],
   "source": [
    "# train_ds.element_spec"
   ]
  },
  {
   "cell_type": "markdown",
   "metadata": {
    "id": "cWZmfkshqP8G"
   },
   "source": [
    "## Create the model"
   ]
  },
  {
   "cell_type": "markdown",
   "metadata": {
    "id": "iGQn32q-hdK2"
   },
   "source": [
    "The model will have three outputs, one for each note variable. For `step` and `duration`, I will use a custom loss `mse_with_positive_pressure()` function based on MSE that encourages the model to output non-negative values."
   ]
  },
  {
   "cell_type": "code",
   "execution_count": 29,
   "metadata": {
    "execution": {
     "iopub.execute_input": "2022-06-28T01:22:05.882677Z",
     "iopub.status.busy": "2022-06-28T01:22:05.882301Z",
     "iopub.status.idle": "2022-06-28T01:22:05.885756Z",
     "shell.execute_reply": "2022-06-28T01:22:05.885250Z"
    },
    "id": "erxLOif08e8v",
    "ExecuteTime": {
     "end_time": "2023-07-19T02:26:37.091003200Z",
     "start_time": "2023-07-19T02:26:37.059655300Z"
    }
   },
   "outputs": [],
   "source": [
    "def mse_with_positive_pressure(y_true: tf.Tensor, y_pred: tf.Tensor):\n",
    "    mse = (y_true - y_pred) ** 2\n",
    "    positive_pressure = 10 * tf.maximum(-y_pred, NUDGE) # slight positive nudge\n",
    "    return tf.reduce_mean(mse + positive_pressure)"
   ]
  },
  {
   "cell_type": "code",
   "execution_count": 30,
   "metadata": {
    "execution": {
     "iopub.execute_input": "2022-06-28T01:22:05.888632Z",
     "iopub.status.busy": "2022-06-28T01:22:05.888186Z",
     "iopub.status.idle": "2022-06-28T01:22:06.128851Z",
     "shell.execute_reply": "2022-06-28T01:22:06.128257Z"
    },
    "id": "kNaVWcCzAm5V",
    "ExecuteTime": {
     "end_time": "2023-07-19T02:26:39.017224500Z",
     "start_time": "2023-07-19T02:26:38.705811Z"
    }
   },
   "outputs": [
    {
     "name": "stdout",
     "output_type": "stream",
     "text": [
      "Model: \"model_1\"\n",
      "__________________________________________________________________________________________________\n",
      " Layer (type)                Output Shape                 Param #   Connected to                  \n",
      "==================================================================================================\n",
      " input_2 (InputLayer)        [(None, 128, 3)]             0         []                            \n",
      "                                                                                                  \n",
      " lstm_1 (LSTM)               (None, 128)                  67584     ['input_2[0][0]']             \n",
      "                                                                                                  \n",
      " duration (Dense)            (None, 1)                    129       ['lstm_1[0][0]']              \n",
      "                                                                                                  \n",
      " pitch (Dense)               (None, 128)                  16512     ['lstm_1[0][0]']              \n",
      "                                                                                                  \n",
      " step (Dense)                (None, 1)                    129       ['lstm_1[0][0]']              \n",
      "                                                                                                  \n",
      "==================================================================================================\n",
      "Total params: 84354 (329.51 KB)\n",
      "Trainable params: 84354 (329.51 KB)\n",
      "Non-trainable params: 0 (0.00 Byte)\n",
      "__________________________________________________________________________________________________\n"
     ]
    }
   ],
   "source": [
    "input_shape = (SEQ_LEN, 3)\n",
    "\n",
    "inputs = tf.keras.Input(input_shape)\n",
    "x = tf.keras.layers.LSTM(NOTES)(inputs)\n",
    "\n",
    "outputs = {\n",
    "  'pitch': \t  tf.keras.layers.Dense(NOTES, name='pitch')(x),\n",
    "  'step': \t  tf.keras.layers.Dense(1,     name='step')(x),\n",
    "  'duration': tf.keras.layers.Dense(1,     name='duration')(x),\n",
    "}\n",
    "\n",
    "model = tf.keras.Model(inputs, outputs)\n",
    "\n",
    "loss = {\n",
    "      'pitch':    tf.keras.losses.SparseCategoricalCrossentropy(from_logits=True),\n",
    "      'step': \t  mse_with_positive_pressure,\n",
    "      'duration': mse_with_positive_pressure,\n",
    "}\n",
    "\n",
    "optimizer = tf.keras.optimizers.Adam(learning_rate=LR)\n",
    "\n",
    "model.compile(loss=loss, optimizer=optimizer)\n",
    "\n",
    "model.summary()"
   ]
  },
  {
   "cell_type": "code",
   "execution_count": 31,
   "metadata": {
    "execution": {
     "iopub.execute_input": "2022-06-28T01:22:06.135633Z",
     "iopub.status.busy": "2022-06-28T01:22:06.135065Z",
     "iopub.status.idle": "2022-06-28T01:22:12.045769Z",
     "shell.execute_reply": "2022-06-28T01:22:12.044994Z"
    },
    "id": "BlATt7Rl0XJl",
    "ExecuteTime": {
     "end_time": "2023-07-19T02:26:48.515466200Z",
     "start_time": "2023-07-19T02:26:47.386071600Z"
    }
   },
   "outputs": [
    {
     "name": "stdout",
     "output_type": "stream",
     "text": [
      "11038/11038 [==============================] - 1493s 135ms/step - loss: 6.1287 - duration_loss: 0.9556 - pitch_loss: 4.8588 - step_loss: 0.3143\n"
     ]
    },
    {
     "data": {
      "text/plain": "{'loss': 6.128691673278809,\n 'duration_loss': 0.9555842876434326,\n 'pitch_loss': 4.85882043838501,\n 'step_loss': 0.3142697811126709}"
     },
     "execution_count": 31,
     "metadata": {},
     "output_type": "execute_result"
    }
   ],
   "source": [
    "losses = model.evaluate(train_ds, return_dict=True)\n",
    "losses\n",
    "# Need NVIDIA GPU box, the Intel GPU causes this:\n",
    "# InvalidArgumentError: Graph execution error\n",
    "# No OpKernel was registered to support Op 'CudnnRNN' used by {{node CudnnRNN}} with these attrs: [seed=0, dropout=0, T=DT_FLOAT, input_mode=\"linear_input\", direction=\"unidirectional\", rnn_mode=\"lstm\", seed2=0, is_training=true]\n",
    "# Registered devices: [CPU, GPU]\n",
    "# Registered kernels:\n",
    "#   <no registered kernels>\n",
    "#\n",
    "# \t [[CudnnRNN]]\n",
    "# \t [[model/lstm/PartitionedCall]] [Op:__inference_test_function_1969]\n",
    "#    11038 in 25 min loss 6.1"
   ]
  },
  {
   "cell_type": "markdown",
   "source": [
    "While testing the `model.evaluate` function, it is clear that the `pitch_loss`  is significantly greater than the `step_loss` and `duration_loss`, because the `loss` is the total loss computed by summing up the `pitch_loss`, `step_loss`, `duration_loss` and is dominated by the `pitch_loss`. One way to balance this is to use the `loss_weights` argument to compile:"
   ],
   "metadata": {
    "collapsed": false
   }
  },
  {
   "cell_type": "code",
   "execution_count": 32,
   "metadata": {
    "execution": {
     "iopub.execute_input": "2022-06-28T01:22:12.049459Z",
     "iopub.status.busy": "2022-06-28T01:22:12.048936Z",
     "iopub.status.idle": "2022-06-28T01:22:12.056686Z",
     "shell.execute_reply": "2022-06-28T01:22:12.056067Z"
    },
    "id": "9fQB5SiN3ufX",
    "ExecuteTime": {
     "end_time": "2023-07-17T09:37:10.495483800Z",
     "start_time": "2023-07-17T09:37:10.430811200Z"
    }
   },
   "outputs": [],
   "source": [
    "model.compile(\n",
    "    loss=loss,\n",
    "    loss_weights={\n",
    "        'pitch':   0.05,\n",
    "        'step':    1.0,\n",
    "        'duration':1.0,\n",
    "    },\n",
    "    optimizer=optimizer,\n",
    ")"
   ]
  },
  {
   "cell_type": "code",
   "execution_count": 33,
   "metadata": {
    "execution": {
     "iopub.execute_input": "2022-06-28T01:22:12.059812Z",
     "iopub.status.busy": "2022-06-28T01:22:12.059207Z",
     "iopub.status.idle": "2022-06-28T01:22:13.678672Z",
     "shell.execute_reply": "2022-06-28T01:22:13.678082Z"
    },
    "id": "T7CzWmFR38ut",
    "ExecuteTime": {
     "end_time": "2023-07-17T09:37:32.971814300Z",
     "start_time": "2023-07-17T09:37:21.600779500Z"
    }
   },
   "outputs": [
    {
     "name": "stdout",
     "output_type": "stream",
     "text": [
      "11038/11038 [==============================] - 1687s 153ms/step - loss: 1.5128 - duration_loss: 0.9556 - pitch_loss: 4.8588 - step_loss: 0.3143\n",
      "CPU times: total: 1h 1min 43s\n",
      "Wall time: 28min 7s\n"
     ]
    },
    {
     "data": {
      "text/plain": "{'loss': 1.5127954483032227,\n 'duration_loss': 0.9555842876434326,\n 'pitch_loss': 4.85882043838501,\n 'step_loss': 0.3142697811126709}"
     },
     "execution_count": 33,
     "metadata": {},
     "output_type": "execute_result"
    }
   ],
   "source": [
    "%%time\n",
    "model.evaluate(train_ds, return_dict=True)\n",
    "#    11038 in 28 min loss 1.5"
   ]
  },
  {
   "cell_type": "markdown",
   "source": [
    "The `loss` then becomes the weighted sum of the individual losses with `pitch_loss` influence reduced thus the total `loss` also reduced from 6.1 down to 1.5."
   ],
   "metadata": {
    "collapsed": false
   }
  },
  {
   "cell_type": "markdown",
   "metadata": {
    "id": "SJbn7HZgfosr"
   },
   "source": [
    "## Train the model"
   ]
  },
  {
   "cell_type": "code",
   "execution_count": null,
   "metadata": {
    "execution": {
     "iopub.execute_input": "2022-06-28T01:22:13.688709Z",
     "iopub.status.busy": "2022-06-28T01:22:13.688207Z",
     "iopub.status.idle": "2022-06-28T01:23:19.662097Z",
     "shell.execute_reply": "2022-06-28T01:23:19.661457Z"
    },
    "id": "aLoYY8-XaPFN",
    "ExecuteTime": {
     "end_time": "2023-07-17T09:38:06.889620500Z",
     "start_time": "2023-07-17T09:38:03.983314200Z"
    },
    "pycharm": {
     "is_executing": true
    }
   },
   "outputs": [
    {
     "name": "stdout",
     "output_type": "stream",
     "text": [
      "Epoch 1/15\n",
      "11038/11038 [==============================] - 5717s 518ms/step - loss: 0.9699 - duration_loss: 0.5042 - pitch_loss: 3.8051 - step_loss: 0.2755\n",
      "Epoch 2/15\n",
      "  335/11038 [..............................] - ETA: 1:33:56 - loss: 0.8188 - duration_loss: 0.3653 - pitch_loss: 3.7116 - step_loss: 0.2679"
     ]
    }
   ],
   "source": [
    "%%time\n",
    "callbacks = [\n",
    "    tf.keras.callbacks.ModelCheckpoint(\n",
    "        filepath='../data/generated/_checkpoints/ckpt_e{epoch}',\n",
    "        save_weights_only=True),\n",
    "\n",
    "    tf.keras.callbacks.EarlyStopping(\n",
    "        monitor ='loss',\n",
    "        patience=PATIENCE,\n",
    "        verbose =0,\n",
    "        restore_best_weights=True),\n",
    "]\n",
    "history = model.fit(\n",
    "    train_ds,\n",
    "    epochs   =EPOCHS,\n",
    "    callbacks=callbacks,\n",
    ")\n",
    "# model.fit is the most time-consuming step!"
   ]
  },
  {
   "cell_type": "code",
   "execution_count": null,
   "metadata": {
    "execution": {
     "iopub.execute_input": "2022-06-28T01:23:19.665366Z",
     "iopub.status.busy": "2022-06-28T01:23:19.664806Z",
     "iopub.status.idle": "2022-06-28T01:23:19.747295Z",
     "shell.execute_reply": "2022-06-28T01:23:19.746753Z"
    },
    "id": "PYBSjgDWiUfT",
    "ExecuteTime": {
     "end_time": "2023-07-17T09:38:12.251953900Z",
     "start_time": "2023-07-17T09:38:12.200202800Z"
    },
    "pycharm": {
     "is_executing": true
    }
   },
   "outputs": [],
   "source": [
    "# ETA Sun 7/23 17:30\n",
    "plt.plot(history.epoch, history.history['loss'], label='total loss')\n",
    "plt.show()"
   ]
  },
  {
   "cell_type": "markdown",
   "metadata": {
    "id": "aPWI94lQ8uQA"
   },
   "source": [
    "## Generate notes"
   ]
  },
  {
   "cell_type": "markdown",
   "metadata": {
    "id": "Wbaoiy4Hf-n5"
   },
   "source": [
    "To use the model to generate notes, it needs a starting sequence of notes where I use my `faves` tunes. The function `predict_next_note` generates one note from a sequence of notes.  For note `pitch`, it draws a sample from the softmax distribution of notes produced by the model, and does not simply pick the note with the highest probability, because always picking the note with the highest probability would lead to repetitive sequences of notes being generated. The `temperature` parameter can be used to control the randomness of notes generated, and must always be positive."
   ]
  },
  {
   "cell_type": "code",
   "execution_count": null,
   "metadata": {
    "execution": {
     "iopub.execute_input": "2022-06-28T01:23:19.750521Z",
     "iopub.status.busy": "2022-06-28T01:23:19.750008Z",
     "iopub.status.idle": "2022-06-28T01:23:19.755706Z",
     "shell.execute_reply": "2022-06-28T01:23:19.755091Z"
    },
    "id": "1mil8ZyJNe1w",
    "ExecuteTime": {
     "end_time": "2023-07-17T09:38:32.722342400Z",
     "start_time": "2023-07-17T09:38:32.706264600Z"
    },
    "pycharm": {
     "is_executing": true
    }
   },
   "outputs": [],
   "source": [
    "def predict_next_note(\n",
    "    notes: np.ndarray, \n",
    "    keras_model: tf.keras.Model, \n",
    "    temperature: float = 1.0) -> int:\n",
    "  \"\"\"Generates notes using a trained sequence model.\"\"\"\n",
    "\n",
    "  assert temperature > 0\n",
    "\n",
    "  # Add batch dimension\n",
    "  inputs = tf.expand_dims(notes, 0)\n",
    "\n",
    "  predictions = model.predict(inputs)\n",
    "  pitch    = predictions['pitch']\n",
    "  step     = predictions['step']\n",
    "  duration = predictions['duration']\n",
    "\n",
    "  pitch    /= TEMP # randomness\n",
    "  pitch    = tf.random.categorical(pitch, num_samples=1)\n",
    "  pitch    = tf.squeeze(pitch, axis=-1)\n",
    "  step     = tf.squeeze(step, axis=-1)\n",
    "  duration = tf.squeeze(duration, axis=-1)\n",
    "\n",
    "  # `step` and `duration` values should be non-negative\n",
    "  step     = tf.maximum(NUDGE, step)     # slight nudge up\n",
    "  duration = tf.maximum(NUDGE, duration) # slight nudge up\n",
    "\n",
    "  return int(pitch), float(step), float(duration)"
   ]
  },
  {
   "cell_type": "markdown",
   "metadata": {
    "id": "W64K-EX3hxU_"
   },
   "source": [
    "Now let's generate some notes, I played around with `temperature` and the starting sequence in `input_notes` and see what happens."
   ]
  },
  {
   "cell_type": "code",
   "execution_count": null,
   "metadata": {
    "execution": {
     "iopub.execute_input": "2022-06-28T01:23:19.758480Z",
     "iopub.status.busy": "2022-06-28T01:23:19.758086Z",
     "iopub.status.idle": "2022-06-28T01:23:25.230760Z",
     "shell.execute_reply": "2022-06-28T01:23:25.230135Z"
    },
    "id": "87fPl4auPdR3",
    "ExecuteTime": {
     "end_time": "2023-07-17T09:38:37.138164800Z",
     "start_time": "2023-07-17T09:38:36.794734900Z"
    },
    "pycharm": {
     "is_executing": true
    }
   },
   "outputs": [],
   "source": [
    "sample_notes = np.stack([notes[key] for key in key_order], axis=1)\n",
    "\n",
    "# The initial sequence of notes; pitch is normalized similar to training sequences\n",
    "input_notes = (sample_notes[:SEQ_LEN] / np.array([NOTES, 1, 1]))\n",
    "\n",
    "generated_notes = []\n",
    "_start = 0\n",
    "for _ in range(NGEN):\n",
    "    pitch, step, duration = predict_next_note(input_notes, model, TEMP)\n",
    "    start = _start + step\n",
    "    end = start + duration\n",
    "    input_note = (pitch, step, duration)\n",
    "    generated_notes.append((*input_note, start, end))\n",
    "    input_notes = np.delete(input_notes, 0, axis=0)\n",
    "    input_notes = np.append(input_notes, np.expand_dims(input_note, 0), axis=0)\n",
    "    _start = start\n",
    "\n",
    "generated_notes = pd.DataFrame(generated_notes, columns=(*key_order, 'start', 'end'))"
   ]
  },
  {
   "cell_type": "markdown",
   "source": [
    "Let's have some fun and output the generated music through several different instruments (still keeping it as 1-instrument MIDI :-)"
   ],
   "metadata": {
    "collapsed": false
   }
  },
  {
   "cell_type": "code",
   "execution_count": null,
   "metadata": {
    "execution": {
     "iopub.execute_input": "2022-06-28T01:23:25.245976Z",
     "iopub.status.busy": "2022-06-28T01:23:25.245744Z",
     "iopub.status.idle": "2022-06-28T01:23:25.317997Z",
     "shell.execute_reply": "2022-06-28T01:23:25.317443Z"
    },
    "id": "e9K9KHPaTNnK",
    "ExecuteTime": {
     "end_time": "2023-07-17T09:38:47.232991400Z",
     "start_time": "2023-07-17T09:38:47.160193700Z"
    },
    "pycharm": {
     "is_executing": true
    }
   },
   "outputs": [],
   "source": [
    "_instruments=['Acoustic Grand Piano','Harpsichord','Electric Guitar (jazz)','Electric Bass (finger)','Cello','Sitar','Bagpipe','Baritone Sax','Seashore','Voice Oohs']\n",
    "for i in _instruments:\n",
    "    out_path =  f'{data_dir}/generated/{i}'\n",
    "\n",
    "    _now = datetime.datetime.today().strftime('%Y-%m-%d-%H-%M-%S')\n",
    "    out_file = f'{out_path}/music{_now}.midi'\n",
    "    pathlib.Path(out_path).mkdir(parents=True, exist_ok=True)\n",
    "    # touch data_dir\\instrument\\path\\to\\song.midi\n",
    "    # pathlib.Path(out_file).touch(exist_ok=True)\n",
    "    out_pm = notes_to_midi(generated_notes, out_file=out_file, instrument_name=i)"
   ]
  },
  {
   "cell_type": "markdown",
   "metadata": {
    "id": "trp82gTqskPR"
   },
   "source": [
    "Visualize the generated notes."
   ]
  },
  {
   "cell_type": "code",
   "execution_count": null,
   "metadata": {
    "execution": {
     "iopub.execute_input": "2022-06-28T01:23:25.321433Z",
     "iopub.status.busy": "2022-06-28T01:23:25.321176Z",
     "iopub.status.idle": "2022-06-28T01:23:25.508189Z",
     "shell.execute_reply": "2022-06-28T01:23:25.507626Z"
    },
    "id": "NlNsxcnhvbcK",
    "ExecuteTime": {
     "end_time": "2023-07-17T09:38:49.931404600Z",
     "start_time": "2023-07-17T09:38:49.897000900Z"
    },
    "pycharm": {
     "is_executing": true
    }
   },
   "outputs": [],
   "source": [
    "plot_track_notes(generated_notes,'generated music')"
   ]
  },
  {
   "cell_type": "markdown",
   "metadata": {
    "id": "p5_yA9lvvitC"
   },
   "source": [
    "The generated music variables of `pitch`, `step` and `duration` distributions should be similar (but not necessarily identical, because the loss was not 0) to the training dataset."
   ]
  },
  {
   "cell_type": "code",
   "execution_count": null,
   "metadata": {
    "execution": {
     "iopub.execute_input": "2022-06-28T01:23:25.511151Z",
     "iopub.status.busy": "2022-06-28T01:23:25.510901Z",
     "iopub.status.idle": "2022-06-28T01:23:25.798999Z",
     "shell.execute_reply": "2022-06-28T01:23:25.798430Z"
    },
    "id": "j5bco2WVRkAa",
    "ExecuteTime": {
     "end_time": "2023-07-17T09:38:54.646340400Z",
     "start_time": "2023-07-17T09:38:54.455438800Z"
    },
    "pycharm": {
     "is_executing": true
    }
   },
   "outputs": [],
   "source": [
    "plot_track_notes_distro(generated_notes,DROP_PCT,'generated music')"
   ]
  },
  {
   "cell_type": "code",
   "execution_count": null,
   "outputs": [],
   "source": [
    "generated_notes"
   ],
   "metadata": {
    "collapsed": false,
    "pycharm": {
     "is_executing": true
    }
   }
  },
  {
   "cell_type": "markdown",
   "metadata": {
    "id": "iAyxR7Itw3Wh"
   },
   "source": [
    "The RNN-LSTM model has about 85k trainable parameters\n",
    "\n",
    "input layer --   384 = 128x3\n",
    "LSTM layer  --  67584 = 128x128x(3 + 1 label) + 16?\n",
    "pitch dense --  16512 =     128x(128+1 label)\n",
    "duration dense -- 129 =       1x(128+1 label)\n",
    "step dense  --    129 =       1x(128+1 label)\n",
    "67584 + 16512 + 129 + 129 = 84354 trainable parameters\n",
    "\n",
    "From the full clean_midi dataset I was able to harvest over 706k notes to the input training set. To reduce the loss I use weighted sum of the 3 component losses for `pitch`, `step` and `duration`. In the generated note distribution plots by pitch-step-duration, it is noticeable the slight change in distribution of the original note variables. Since there is a feedback loop between the model's outputs and inputs, the model tends to generate similar sequences of outputs to reduce the loss. This is particularly relevant for `step` and `duration`, which uses the MSE loss. To increase the randomness of the `pitch` increase the `temperature` in `predict_next_note`.\n"
   ]
  },
  {
   "cell_type": "markdown",
   "source": [
    "Overall this was a good project for me. I learned a lot about music, and if not composing it myself from scratch, to at least what statistics lead to a good music learning model and pleasant to the ear tunes. I gained some insight knowledge of `keras` and `tensrflow`. While I am a strong rock-and-roll and hard-rock affectionado, I noticed that training a simple RNN/LSTM `music generation` model on rock and pop pieces is very simplistic as far as pitch, step, duration histograms, nowhere near close to normal distribution which lead to awful music generation pieces based on those music genres. My last attempt (checked-in here) is based on all 363 pieces. I was curious why the 10000 note RNN/LSTM generated musing is plying in a matter of 1-2-3 seconds. The answer in my opinion is the `step` histogram is very heavy around 0.0 sec, which implies that the generated sequential notes with setp=0.0 are played instanteniusly. To that regard at first I tried to pick only music pieces with `step` normally distributed for training, but it was a lot of work looking at so many distributions. Then I came up with a NUDGE factor, currently at 0.025 sec, or 25 ms. This would hopefully ensure that notes with 0.0-based step will get assigned a small, non-zero step, just to nudge those notes from playing simultaneously, thus having a generated music piece that is a bit longer than 1-2-3 seconds :-)"
   ],
   "metadata": {
    "collapsed": false
   }
  },
  {
   "cell_type": "code",
   "execution_count": null,
   "outputs": [],
   "source": [],
   "metadata": {
    "collapsed": false
   }
  }
 ],
 "metadata": {
  "accelerator": "GPU",
  "colab": {
   "collapsed_sections": [],
   "name": "music_generation.ipynb",
   "toc_visible": true
  },
  "kernelspec": {
   "name": "python3",
   "language": "python",
   "display_name": "Python 3 (ipykernel)"
  },
  "language_info": {
   "codemirror_mode": {
    "name": "ipython",
    "version": 3
   },
   "file_extension": ".py",
   "mimetype": "text/x-python",
   "name": "python",
   "nbconvert_exporter": "python",
   "pygments_lexer": "ipython3",
   "version": "3.9.13"
  }
 },
 "nbformat": 4,
 "nbformat_minor": 0
}
